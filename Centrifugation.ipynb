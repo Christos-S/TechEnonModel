{
 "cells": [
  {
   "cell_type": "code",
   "execution_count": 1,
   "metadata": {
    "collapsed": true
   },
   "outputs": [],
   "source": [
    "import math\n",
    "import pandas as pd\n",
    "import numpy as np\n",
    "\n",
    "class Centrifugation(object):\n",
    "    \n",
    "    def __init__(self,MassIn,VolumeIn,Flowrate,ParallelUnits,SUHoldBags):\n",
    "        self.MassIn = MassIn\n",
    "        self.VolumeIn = VolumeIn\n",
    "        self.Flowrate = Flowrate\n",
    "        self.ParallelUnits = ParallelUnits\n",
    "        self.SUHoldBags = SUHoldBags\n",
    "        \n",
    "        \n",
    "    def Sizing(self):\n",
    "        HarvestDuration=self.VolumeIn/(self.Flowrate*self.ParallelUnits)\n",
    "        return HarvestDuration\n",
    "    \n",
    "    def MassBalance(self):\n",
    "        #Load SOPs from Database\n",
    "        Protocol=pd.read_excel('Database.xlsx',sheetname='SOPs',index_col=0)\n",
    "        StepYield=Protocol.get_value('Step Yield','Centrifugation')\n",
    "        MassOut=self.MassIn*StepYield\n",
    "        VolumeOut=self.VolumeIn*Protocol.get_value('Dewatering Level','Centrifugation')\n",
    "        ConcentrationOut=MassOut*1000/VolumeOut\n",
    "        return MassOut,VolumeOut,ConcentrationOut\n",
    "    \n",
    "    def Timeframe(self):\n",
    "        #Load SOPs from Database\n",
    "        Protocol=pd.read_excel('Database.xlsx',sheetname='SOPs',index_col=0)\n",
    "        #time to prepare for a batch\n",
    "        PrepTime=Protocol.get_value('Preparation Time (hr)','Centrifugation')\n",
    "        #time to operate a batch\n",
    "        OperTime=self.VolumeIn/(self.Flowrate*self.ParallelUnits)\n",
    "        #time to clean\n",
    "        CIPTime=Protocol.get_value('CIP Time (hr)','Centrifugation')+Protocol.get_value('SIP Time (hr)','Centrifugation')\n",
    "        #time to turnaround for next batch\n",
    "        TurnAroundTime=Protocol.get_value('Turnaround Time (hr)','Centrifugation')\n",
    "        #time to turnaround hold-tanks\n",
    "        HoldTanksCIPandSIPTime=Protocol.get_value('CIP Time (hr)','Hold-Tanks')+Protocol.get_value('SIP Time (hr)','Hold-Tanks')\n",
    "        return PrepTime,OperTime,CIPTime,TurnAroundTime,HoldTanksCIPandSIPTime\n",
    "    \n",
    "    def EquipmentAndMaterials(self):\n",
    "        #Load Equipment from Database\n",
    "        Equipment=pd.read_excel('Database.xlsx',sheetname='Equipment',index_col=0)\n",
    "        #Load Materials from Database\n",
    "        Materials=pd.read_excel('Database.xlsx',sheetname='Materials',index_col=0)\n",
    "        #Load SOPs from Database\n",
    "        Protocol=pd.read_excel('Database.xlsx',sheetname='SOPs',index_col=0)\n",
    "        #Centrifuge, CIP, WFI, PW\n",
    "        if self.Flowrate<=Equipment.get_value('Centrifuge (Small)','Base Size'):\n",
    "            CentrifugeCost=Equipment.get_value('Centrifuge (Small)','Base Cost')*self.ParallelUnits\n",
    "            CIPVolume=Equipment.get_value('Centrifuge (Small)','Base Size')*Protocol.get_value('CIP Time (hr)','Centrifugation')*self.ParallelUnits*(1+Protocol.get_value('Buffer Overfill','Hold-Tanks'))\n",
    "            WFIVolume=Equipment.get_value('Centrifuge (Small)','Base Size')*Protocol.get_value('WFI Rinse (min)','Centrifugation')/60*self.ParallelUnits*(1+Protocol.get_value('Buffer Overfill','Hold-Tanks'))\n",
    "            PWVolume=Equipment.get_value('Centrifuge (Small)','Base Size')*Protocol.get_value('PW Rinse (min)','Centrifugation')/60*self.ParallelUnits*(1+Protocol.get_value('Buffer Overfill','Hold-Tanks'))\n",
    "        else:\n",
    "            CentrifugeCost=Equipment.get_value('Centrifuge (Big)','Base Cost')*self.ParallelUnits\n",
    "            CIPVolume=Equipment.get_value('Centrifuge (Big)','Base Size')*Protocol.get_value('CIP Time (hr)','Centrifugation')*self.ParallelUnits*(1+Protocol.get_value('Buffer Overfill','Hold-Tanks'))\n",
    "            WFIVolume=Equipment.get_value('Centrifuge (Big)','Base Size')*Protocol.get_value('WFI Rinse (min)','Centrifugation')/60*self.ParallelUnits*(1+Protocol.get_value('Buffer Overfill','Hold-Tanks'))\n",
    "            PWVolume=Equipment.get_value('Centrifuge (Big)','Base Size')*Protocol.get_value('PW Rinse (min)','Centrifugation')/60*self.ParallelUnits*(1+Protocol.get_value('Buffer Overfill','Hold-Tanks'))\n",
    "        CentrifugeCIPCost=CIPVolume*Materials.get_value('CIP Buffer','Base Cost')\n",
    "        CentrifugeWFICost=WFIVolume*Materials.get_value('WFI','Base Cost')\n",
    "        CentrifugePWCost=PWVolume*Materials.get_value('PW','Base Cost')\n",
    "        #Product hold-tank with GF, PW, WFI, CIP\n",
    "        if Centrifugation.MassBalance(self)[1]/Protocol.get_value('Space Efficiency','Hold-Tanks')>Equipment.get_value('Hold-Tank','Max. Size'):\n",
    "            NumberOfProductTanks=math.ceil((Centrifugation.MassBalance(self)[1]/Protocol.get_value('Space Efficiency','Hold-Tanks'))/Equipment.get_value('Hold-Tank','Max. Size'))\n",
    "        else:\n",
    "            NumberOfProductTanks=1\n",
    "        ProductTankVolume=(Centrifugation.MassBalance(self)[1]/Protocol.get_value('Space Efficiency','Hold-Tanks'))/NumberOfProductTanks\n",
    "        if ProductTankVolume<=10:\n",
    "            CorrectedProductTankVolume=math.ceil(ProductTankVolume)\n",
    "        elif ProductTankVolume<=100 and ProductTankVolume>10:\n",
    "            CorrectedProductTankVolume=int(math.ceil(ProductTankVolume/10.0))*10\n",
    "        elif ProductTankVolume<=1000 and ProductTankVolume>100:\n",
    "            CorrectedProductTankVolume=int(math.ceil(ProductTankVolume/100.0))*100\n",
    "        else:\n",
    "            CorrectedProductTankVolume=int(math.ceil(ProductTankVolume/1000.0))*1000\n",
    "        ProductHoldTankCost=NumberOfProductTanks*Equipment.get_value('Hold-Tank','Base Cost')*(CorrectedProductTankVolume/Equipment.get_value('Hold-Tank','Base Size'))**Equipment.get_value('Hold-Tank','Scaling Factor')\n",
    "        ProductHoldTankGuard=NumberOfProductTanks*Materials.get_value('Hold-Tank Guard Filter','Base Cost')*(CorrectedProductTankVolume/Materials.get_value('Hold-Tank Guard Filter','Base Size'))**Materials.get_value('Hold-Tank Guard Filter','Scaling Factor')\n",
    "        ProductCIPBuffer=NumberOfProductTanks*(Protocol.get_value('Acid Buffer','Hold-Tanks')+Protocol.get_value('Caustic Buffer','Hold-Tanks'))*CorrectedProductTankVolume*(1+Protocol.get_value('Buffer Overfill','Hold-Tanks'))\n",
    "        ProductCIPBufferCost=ProductCIPBuffer*Materials.get_value('CIP Buffer','Base Cost')\n",
    "        ProductHoldTankDiameter=NumberOfProductTanks*(CorrectedProductTankVolume*4000/(math.pi*Protocol.get_value('H/D tank ratio','Hold-Tanks')))**(1/3)\n",
    "        ProductWFIVolume=(1+Protocol.get_value('Buffer Overfill','Hold-Tanks'))*ProductHoldTankDiameter/100*Protocol.get_value('Water Flowrate (L/hr/m)','Hold-Tanks')/60*Protocol.get_value('WFI Rinse (min)','Hold-Tanks')\n",
    "        ProductPWVolume=(1+Protocol.get_value('Buffer Overfill','Hold-Tanks'))*ProductHoldTankDiameter/100*Protocol.get_value('Water Flowrate (L/hr/m)','Hold-Tanks')/60*Protocol.get_value('PW Rinse (min)','Hold-Tanks')\n",
    "        ProductWFIandPWCost=ProductWFIVolume*Materials.get_value('WFI','Base Cost')+ProductPWVolume*Materials.get_value('PW','Base Cost')\n",
    "        TotalCIPVolume=CIPVolume+ProductCIPBuffer\n",
    "        TotalCIPCost=CentrifugeCIPCost+ProductCIPBufferCost\n",
    "        TotalWFIVolume=WFIVolume+ProductWFIVolume\n",
    "        TotalWFIandPWCost=CentrifugeWFICost+CentrifugePWCost+ProductWFIandPWCost\n",
    "        TotalPWVolume=PWVolume+ProductPWVolume\n",
    "        return CentrifugeCost,ProductHoldTankCost,TotalCIPCost,TotalWFIandPWCost,ProductHoldTankGuard\n",
    "    \n",
    "    def CostBreakdown(self):\n",
    "        EquipmentPurchaseCost=sum(Centrifugation.EquipmentAndMaterials(self)[0:2])\n",
    "        #costs per batch\n",
    "        ChemicalReagentsCost=sum(Centrifugation.EquipmentAndMaterials(self)[2:4])\n",
    "        ConsumablesCost=sum(Centrifugation.EquipmentAndMaterials(self)[4:5])\n",
    "        LabourCost=0\n",
    "        return LabourCost,ChemicalReagentsCost,ConsumablesCost,EquipmentPurchaseCost"
   ]
  },
  {
   "cell_type": "code",
   "execution_count": 2,
   "metadata": {},
   "outputs": [
    {
     "name": "stdout",
     "output_type": "stream",
     "text": [
      "1.0\n",
      "(8.5, 850.0, 10.0)\n",
      "(1.0, 1.0, 3.0, 1.0, 6.0)\n",
      "(510000, 68116.296619915607, 15180.0, 538.05527121746945, 457.82324613652179)\n",
      "(0, 15718.055271217469, 457.82324613652179, 578116.29661991564)\n"
     ]
    }
   ],
   "source": [
    "DiscStack=Centrifugation(Flowrate=1000,MassIn=10,ParallelUnits=1,SUHoldBags=False,VolumeIn=1000)\n",
    "print(DiscStack.Sizing())\n",
    "print(DiscStack.MassBalance())\n",
    "print(DiscStack.Timeframe())\n",
    "print(DiscStack.EquipmentAndMaterials())\n",
    "print(DiscStack.CostBreakdown())"
   ]
  },
  {
   "cell_type": "code",
   "execution_count": null,
   "metadata": {
    "collapsed": true
   },
   "outputs": [],
   "source": []
  }
 ],
 "metadata": {
  "kernelspec": {
   "display_name": "Python 3",
   "language": "python",
   "name": "python3"
  },
  "language_info": {
   "codemirror_mode": {
    "name": "ipython",
    "version": 3
   },
   "file_extension": ".py",
   "mimetype": "text/x-python",
   "name": "python",
   "nbconvert_exporter": "python",
   "pygments_lexer": "ipython3",
   "version": "3.6.3"
  }
 },
 "nbformat": 4,
 "nbformat_minor": 2
}
