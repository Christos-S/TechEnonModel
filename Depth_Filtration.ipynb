{
 "cells": [
  {
   "cell_type": "code",
   "execution_count": 1,
   "metadata": {
    "collapsed": true
   },
   "outputs": [],
   "source": [
    "import math\n",
    "import pandas as pd\n",
    "import numpy as np\n",
    "\n",
    "class DepthFiltration(object):\n",
    "    \n",
    "    def __init__(self,MassIn,VolumeIn,SUHoldBags):\n",
    "        self.MassIn = MassIn\n",
    "        self.VolumeIn = VolumeIn\n",
    "        self.SUHoldBags = SUHoldBags\n",
    "        \n",
    "        \n",
    "    def Sizing(self):\n",
    "        \n",
    "        return \n",
    "    \n",
    "    def MassBalance(self):\n",
    "        #Load SOPs from Database\n",
    "        Protocol=pd.read_excel('Database.xlsx',sheetname='SOPs',index_col=0)\n",
    "        StepYield=Protocol.get_value('Step Yield','Depth Filtration')\n",
    "        MassOut=self.MassIn*StepYield\n",
    "        VolumeOut=self.VolumeIn\n",
    "        ConcentrationOut=MassOut*1000/VolumeOut\n",
    "        return MassOut,VolumeOut,ConcentrationOut"
   ]
  },
  {
   "cell_type": "code",
   "execution_count": null,
   "metadata": {
    "collapsed": true
   },
   "outputs": [],
   "source": []
  }
 ],
 "metadata": {
  "kernelspec": {
   "display_name": "Python 3",
   "language": "python",
   "name": "python3"
  },
  "language_info": {
   "codemirror_mode": {
    "name": "ipython",
    "version": 3
   },
   "file_extension": ".py",
   "mimetype": "text/x-python",
   "name": "python",
   "nbconvert_exporter": "python",
   "pygments_lexer": "ipython3",
   "version": "3.6.3"
  }
 },
 "nbformat": 4,
 "nbformat_minor": 2
}
